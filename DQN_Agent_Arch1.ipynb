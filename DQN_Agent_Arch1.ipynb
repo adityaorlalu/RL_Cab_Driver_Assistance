{
 "cells": [
  {
   "cell_type": "markdown",
   "metadata": {},
   "source": [
    "### Cab-Driver Agent"
   ]
  },
  {
   "cell_type": "code",
   "execution_count": 1,
   "metadata": {},
   "outputs": [
    {
     "name": "stderr",
     "output_type": "stream",
     "text": [
      "Using TensorFlow backend.\n"
     ]
    }
   ],
   "source": [
    "# Importing libraries\n",
    "import numpy as np\n",
    "import random\n",
    "import math\n",
    "from collections import deque\n",
    "import collections\n",
    "import pickle\n",
    "import time\n",
    "\n",
    "# for building DQN model\n",
    "from keras import layers\n",
    "from keras import Sequential\n",
    "from keras.layers import Dense, Activation, Flatten\n",
    "from keras.layers.normalization import BatchNormalization\n",
    "from keras.optimizers import Adam\n",
    "\n",
    "# for plotting graphs\n",
    "import matplotlib.pyplot as plt\n",
    "\n",
    "# Import the environment\n",
    "from Env import CabDriver\n",
    "\n",
    "np.random.seed(0)\n",
    "random.seed(0)"
   ]
  },
  {
   "cell_type": "markdown",
   "metadata": {},
   "source": [
    "#### Defining Time Matrix"
   ]
  },
  {
   "cell_type": "code",
   "execution_count": 2,
   "metadata": {},
   "outputs": [],
   "source": [
    "# Loading the time matrix provided\n",
    "Time_matrix = np.load(\"TM.npy\")"
   ]
  },
  {
   "cell_type": "markdown",
   "metadata": {},
   "source": [
    "#### Tracking the state-action pairs for checking convergence\n"
   ]
  },
  {
   "cell_type": "code",
   "execution_count": null,
   "metadata": {},
   "outputs": [],
   "source": []
  },
  {
   "cell_type": "code",
   "execution_count": null,
   "metadata": {},
   "outputs": [],
   "source": []
  },
  {
   "cell_type": "code",
   "execution_count": null,
   "metadata": {},
   "outputs": [],
   "source": []
  },
  {
   "cell_type": "code",
   "execution_count": 3,
   "metadata": {},
   "outputs": [],
   "source": [
    "#Defining a function to save the Q-dictionary as a pickle file\n",
    "def save_obj(obj, name ):\n",
    "    with open(name + '.pkl', 'wb') as f:\n",
    "        pickle.dump(obj, f, pickle.HIGHEST_PROTOCOL)"
   ]
  },
  {
   "cell_type": "markdown",
   "metadata": {},
   "source": [
    "### Agent Class\n",
    "\n",
    "If you are using this framework, you need to fill the following to complete the following code block:\n",
    "1. State and Action Size\n",
    "2. Hyperparameters\n",
    "3. Create a neural-network model in function 'build_model()'\n",
    "4. Define epsilon-greedy strategy in function 'get_action()'\n",
    "5. Complete the function 'append_sample()'. This function appends the recent experience tuple <state, action, reward, new-state> to the memory\n",
    "6. Complete the 'train_model()' function with following logic:\n",
    "   - If the memory size is greater than mini-batch size, you randomly sample experiences from memory as per the mini-batch size and do the following:\n",
    "      - Initialise your input and output batch for training the model\n",
    "      - Calculate the target Q value for each sample: reward + gamma*max(Q(s'a,))\n",
    "      - Get Q(s', a) values from the last trained model\n",
    "      - Update the input batch as your encoded state and output batch as your Q-values\n",
    "      - Then fit your DQN model using the updated input and output batch."
   ]
  },
  {
   "cell_type": "code",
   "execution_count": 4,
   "metadata": {},
   "outputs": [],
   "source": [
    "class DQNAgent():\n",
    "    def __init__(self, environment, action_size, state_size, hyperparameter):\n",
    "        # Define size of state and action\n",
    "        self.environment = environment\n",
    "        self.state_size = state_size\n",
    "        self.action_size = action_size\n",
    "\n",
    "        # hyper parameters for the DQN\n",
    "        self.discount_factor = hyperparameter['discount_factor'] or 0.95\n",
    "        self.learning_rate = hyperparameter['learning_rate'] or 0.01\n",
    "        self.epsilon = hyperparameter['epsilon'] or 1\n",
    "        self.epsilon_max = hyperparameter['epsilon_max'] or 1\n",
    "        self.epsilon_decay = hyperparameter['epsilon_decay'] or 0.0009\n",
    "        self.epsilon_min = hyperparameter['epsilon_min'] or 0.01\n",
    "        \n",
    "        self.batch_size = hyperparameter['batch_size'] or 32        \n",
    "        # create replay memory using deque\n",
    "        self.memory = deque(maxlen=2000)\n",
    "\n",
    "        # create main model and target model\n",
    "        self.model = self.build_model()\n",
    "\n",
    "    \n",
    "    def set_epsilon(self, episode):\n",
    "        self.epsilon = self.epsilon_min + (\n",
    "            self.epsilon_max - self.epsilon_min) * np.exp(-self.epsilon_decay * episode)\n",
    "\n",
    "    def get_epsilon(self):\n",
    "        return self.epsilon\n",
    "\n",
    "\n",
    "    # approximate Q function using Neural Network\n",
    "    def build_model(self):\n",
    "\n",
    "        model = Sequential()\n",
    "\n",
    "        # hidden layers\n",
    "        model.add(Dense(36, input_dim=self.state_size, activation='relu', kernel_initializer='he_uniform'))\n",
    "        model.add(Dense(36, activation='relu', kernel_initializer='he_uniform'))\n",
    "\n",
    "        # the output layer: output is of size num_actions\n",
    "        model.add(Dense(self.action_size, activation='relu', kernel_initializer='he_uniform'))\n",
    "\n",
    "        model.compile(loss='mse', optimizer=Adam(lr=self.learning_rate))\n",
    "\n",
    "        return model\n",
    "\n",
    "\n",
    "    def get_action(self, state):\n",
    "        \"\"\"\n",
    "        get action in a state according to an epsilon-greedy approach\n",
    "        \"\"\"\n",
    "        (possible_actions_index, actions) = self.environment.requests(state)\n",
    "\n",
    "        # 0.011\n",
    "        if random.uniform(self.epsilon_max, self.epsilon_min) < self.get_epsilon(): \n",
    "            index = random.randrange(len(possible_actions_index))\n",
    "            return (possible_actions_index[index], actions[index])\n",
    "\n",
    "        else:\n",
    "            state = np.array(self.environment.state_encod_arch1(state)).reshape(1, self.state_size)\n",
    "            q_value = self.model.predict(state)\n",
    "            \n",
    "            filter_q_value = np.take(q_value[0], possible_actions_index)\n",
    "            \n",
    "            if q_value[0][0] > np.max(filter_q_value):\n",
    "                return (0, actions[-1])\n",
    "            else:\n",
    "                return (possible_actions_index[np.argmax(filter_q_value)], actions[np.argmax(filter_q_value)])\n",
    "\n",
    "\n",
    "    def append_sample(self, state, action, reward, next_state, done):\n",
    "        # append the tuple (s, a, r, s', done) to memory (replay buffer) after every action\n",
    "        self.memory.append((state, action, reward, next_state, done))\n",
    "\n",
    "\n",
    "    def train_model(self):\n",
    "        \"\"\"\n",
    "        train the neural network on a minibatch. Input to the network is the states,\n",
    "        output is the target q-value corresponding to each action.\n",
    "        \"\"\"\n",
    "\n",
    "        if len(self.memory) > self.batch_size:\n",
    "            \n",
    "            # sample minibatch from memory\n",
    "            minibatch = random.sample(self.memory, self.batch_size)\n",
    "\n",
    "            # initialise two matrices - update_input and update_output\n",
    "            update_input = np.zeros((self.batch_size, self.state_size))\n",
    "            update_output = np.zeros((self.batch_size, self.state_size))\n",
    "            actions, rewards, done = [], [], []\n",
    "\n",
    "            # populate update_input and update_output and the lists rewards, actions, done\n",
    "            for i in range(self.batch_size):\n",
    "                state, action, reward, next_state, done_boolean = minibatch[i]\n",
    "                update_input[i] = self.environment.state_encod_arch1(state)\n",
    "                actions.append(action)\n",
    "                rewards.append(reward)\n",
    "                update_output[i] = self.environment.state_encod_arch1(next_state)\n",
    "                done.append(done_boolean)\n",
    "\n",
    "            # predict the target q-values from states s\n",
    "            target = self.model.predict(update_input)\n",
    "\n",
    "            # target for q-network\n",
    "            target_qval = self.model.predict(update_output)\n",
    "            \n",
    "            # for testing\n",
    "            for i in range(self.batch_size):\n",
    "                target[i][actions[i]] = rewards[i] + self.discount_factor * np.max(target_qval[i])\n",
    "\n",
    "#             # update the target values\n",
    "#             for i in range(self.batch_size):\n",
    "#                 if done[i]:\n",
    "#                     target[i][actions[i]] = rewards[i]\n",
    "#                 else: # non-terminal state\n",
    "#                     target[i][actions[i]] = rewards[i] + self.discount_factor * np.max(target_qval[i])\n",
    "\n",
    "            # model fit\n",
    "            history = self.model.fit(update_input, target, batch_size=self.batch_size, epochs=1, verbose=0)\n",
    "\n",
    "            # print(history.history['loss'])\n",
    "            return history.history\n",
    "\n",
    "    def get_qvalue(self, state):\n",
    "        state = np.array(self.environment.state_encod_arch1(state)).reshape(1, self.state_size)\n",
    "        return self.model.predict(state)\n",
    "\n",
    "    def save_model_weights(self, name):\n",
    "        self.model.save_weights(name)\n"
   ]
  },
  {
   "cell_type": "code",
   "execution_count": 5,
   "metadata": {},
   "outputs": [],
   "source": [
    "Episodes = 4000\n",
    "\n",
    "max_car_drive_time = 30 * 24\n",
    "\n",
    "Hyperparameters = {\n",
    "    'discount_factor': 0.95,\n",
    "    'learning_rate' : 0.001,\n",
    "    'epsilon': 1,\n",
    "    'epsilon_max' : 1,\n",
    "    'epsilon_decay' : 0.003,\n",
    "    'epsilon_min': 0.01,\n",
    "    'batch_size' : 64\n",
    "}\n",
    "\n",
    "state_size = 36\n",
    "\n",
    "\n",
    "env = CabDriver()\n",
    "(action_space, _, _) = env.reset()\n",
    "\n",
    "action_size = len(action_space)\n",
    "\n",
    "agent = DQNAgent(environment= env, action_size= action_size, state_size= state_size, hyperparameter= Hyperparameters)\n",
    "\n",
    "(rewards_per_episode, nn_loss_per_episode) = ([],[])"
   ]
  },
  {
   "cell_type": "markdown",
   "metadata": {},
   "source": [
    "### DQN block"
   ]
  },
  {
   "cell_type": "code",
   "execution_count": null,
   "metadata": {},
   "outputs": [
    {
     "name": "stdout",
     "output_type": "stream",
     "text": [
      "Episdoe:50 DriveTime:722.0 NN_loss:[1598.135009765625] Reward:-361.0 Epsilon:0.8621008966608072\n",
      "Episdoe:100 DriveTime:720.0 NN_loss:[2169.2509765625] Reward:279.0 Epsilon:0.7434100384749007\n",
      "Episdoe:150 DriveTime:720.0 NN_loss:[1369.658447265625] Reward:558.0 Epsilon:0.6412518701055556\n",
      "Episdoe:200 DriveTime:725.0 NN_loss:[1578.6802978515625] Reward:713.0 Epsilon:0.5533235197330862\n",
      "Episdoe:250 DriveTime:721.0 NN_loss:[1207.4180908203125] Reward:670.0 Epsilon:0.47764288721360454\n",
      "Episdoe:300 DriveTime:723.0 NN_loss:[1281.0433349609375] Reward:597.0 Epsilon:0.4125039631431931\n",
      "Episdoe:350 DriveTime:722.0 NN_loss:[1168.4063720703125] Reward:503.0 Epsilon:0.35643837162004377\n",
      "Episdoe:400 DriveTime:724.0 NN_loss:[2019.6619873046875] Reward:781.0 Epsilon:0.3081822697930801\n",
      "Episdoe:450 DriveTime:720.0 NN_loss:[988.4712524414062] Reward:801.0 Epsilon:0.2666478580394326\n",
      "Episdoe:500 DriveTime:726.0 NN_loss:[489.3177185058594] Reward:960.0 Epsilon:0.23089885854694553\n",
      "Episdoe:550 DriveTime:720.0 NN_loss:[616.3397216796875] Reward:855.0 Epsilon:0.20012940953454655\n",
      "Episdoe:600 DriveTime:727.0 NN_loss:[524.7190551757812] Reward:1054.0 Epsilon:0.17364589933937066\n",
      "Episdoe:650 DriveTime:726.0 NN_loss:[827.3421630859375] Reward:1275.0 Epsilon:0.15085133087064845\n",
      "Episdoe:700 DriveTime:725.0 NN_loss:[447.53558349609375] Reward:956.0 Epsilon:0.13123186397045208\n",
      "Episdoe:750 DriveTime:721.0 NN_loss:[752.099365234375] Reward:1318.0 Epsilon:0.11434523231624569\n",
      "Episdoe:800 DriveTime:728.0 NN_loss:[419.20843505859375] Reward:1157.0 Epsilon:0.09981077375651838\n",
      "Episdoe:850 DriveTime:725.0 NN_loss:[1275.4376220703125] Reward:1082.0 Epsilon:0.08730084934114159\n",
      "Episdoe:900 DriveTime:720.0 NN_loss:[393.54254150390625] Reward:1323.0 Epsilon:0.07653345761235225\n",
      "Episdoe:950 DriveTime:726.0 NN_loss:[414.601806640625] Reward:1302.0 Epsilon:0.06726587766609007\n",
      "Episdoe:1000 DriveTime:726.0 NN_loss:[1.762951135635376] Reward:1185.0 Epsilon:0.05928919768418531\n",
      "Episdoe:1050 DriveTime:720.0 NN_loss:[377.6142272949219] Reward:783.0 Epsilon:0.05242360559836979\n",
      "Episdoe:1100 DriveTime:726.0 NN_loss:[421.0963439941406] Reward:1311.0 Epsilon:0.046514335727227595\n",
      "Episdoe:1150 DriveTime:721.0 NN_loss:[1094.746826171875] Reward:1354.0 Epsilon:0.04142818001428726\n",
      "Episdoe:1200 DriveTime:727.0 NN_loss:[622.7744140625] Reward:1369.0 Epsilon:0.03705048522281963\n",
      "Episdoe:1250 DriveTime:724.0 NN_loss:[1034.8939208984375] Reward:1168.0 Epsilon:0.03328256839744902\n",
      "Episdoe:1300 DriveTime:723.0 NN_loss:[420.6986083984375] Reward:1524.0 Epsilon:0.030039492331346347\n",
      "Episdoe:1350 DriveTime:728.0 NN_loss:[211.4349822998047] Reward:1319.0 Epsilon:0.02724815089309858\n",
      "Episdoe:1400 DriveTime:731.0 NN_loss:[179.6636505126953] Reward:1484.0 Epsilon:0.024845621052272927\n",
      "Episdoe:1450 DriveTime:720.0 NN_loss:[539.9065551757812] Reward:1224.0 Epsilon:0.022777744454675064\n",
      "Episdoe:1500 DriveTime:723.0 NN_loss:[1.686002254486084] Reward:1326.0 Epsilon:0.02099790657285988\n",
      "Episdoe:1550 DriveTime:727.0 NN_loss:[626.7864990234375] Reward:1405.0 Epsilon:0.01946598591123807\n",
      "Episdoe:1600 DriveTime:727.0 NN_loss:[1602.096435546875] Reward:1360.0 Epsilon:0.01814744957852983\n",
      "Episdoe:1650 DriveTime:721.0 NN_loss:[1.8940376043319702] Reward:1291.0 Epsilon:0.017012574839761596\n",
      "Episdoe:1700 DriveTime:726.0 NN_loss:[390.76727294921875] Reward:1293.0 Epsilon:0.016035779099860478\n",
      "Episdoe:1750 DriveTime:726.0 NN_loss:[225.93450927734375] Reward:1293.0 Epsilon:0.015195043215189571\n",
      "Episdoe:1800 DriveTime:724.0 NN_loss:[406.9376220703125] Reward:1177.0 Epsilon:0.01447141513318654\n",
      "Episdoe:1850 DriveTime:720.0 NN_loss:[419.04248046875] Reward:1521.0 Epsilon:0.01384858267104137\n",
      "Episdoe:1900 DriveTime:726.0 NN_loss:[438.8162536621094] Reward:1446.0 Epsilon:0.01331250580289656\n",
      "Episdoe:1950 DriveTime:726.0 NN_loss:[236.33961486816406] Reward:1347.0 Epsilon:0.012851100166507357\n",
      "Episdoe:2000 DriveTime:726.0 NN_loss:[920.9922485351562] Reward:1293.0 Epsilon:0.012453964654899695\n"
     ]
    }
   ],
   "source": [
    "start_time = time.time()\n",
    "\n",
    "for episode in range(1, Episodes + 1):\n",
    "    \n",
    "    done = False\n",
    "    total_reward = 0\n",
    "    agent_total_time = 0\n",
    "    \n",
    "    (_, _, curr_state) = env.reset()\n",
    "    \n",
    "    while not done:        \n",
    "        (action_index, action) = agent.get_action(curr_state)\n",
    "        \n",
    "        (next_state, reward, total_worked_hours) = env.step(curr_state, action, Time_matrix)\n",
    "        \n",
    "        agent.append_sample(curr_state, action_index, reward, next_state, done)\n",
    "        \n",
    "        history = agent.train_model()\n",
    "\n",
    "        total_reward += reward\n",
    "        curr_state = next_state\n",
    "        \n",
    "        agent_total_time += total_worked_hours\n",
    "        if agent_total_time >= max_car_drive_time:\n",
    "            done = True\n",
    "            \n",
    "    agent.set_epsilon(episode)\n",
    "\n",
    "    rewards_per_episode.append(total_reward)\n",
    "    nn_loss_per_episode.append(history['loss'])\n",
    "    \n",
    "    if episode % 1000 == 0:\n",
    "        agent.save_model_weights(name=\"model_weights.h5\")\n",
    "    \n",
    "    if episode % 50 == 0:\n",
    "        print('Episdoe:{} DriveTime:{} NN_loss:{} Reward:{} Epsilon:{}'.format(\n",
    "            episode, agent_total_time, history['loss'], total_reward, agent.get_epsilon()))\n",
    "\n",
    "\n",
    "elapsed_time = time.time() - start_time\n",
    "print(elapsed_time)"
   ]
  },
  {
   "cell_type": "code",
   "execution_count": null,
   "metadata": {},
   "outputs": [],
   "source": [
    "# rewards_per_episode"
   ]
  },
  {
   "cell_type": "code",
   "execution_count": null,
   "metadata": {},
   "outputs": [],
   "source": []
  },
  {
   "cell_type": "markdown",
   "metadata": {},
   "source": [
    "### Tracking Convergence"
   ]
  },
  {
   "cell_type": "code",
   "execution_count": null,
   "metadata": {},
   "outputs": [],
   "source": [
    "plt.figure(0, figsize=(16,7))\n",
    "plt.title('Rewards per episode')\n",
    "xaxis = np.asarray(range(0, len(rewards_per_episode)))\n",
    "plt.plot(xaxis,np.asarray(rewards_per_episode))\n",
    "plt.show()"
   ]
  },
  {
   "cell_type": "code",
   "execution_count": null,
   "metadata": {},
   "outputs": [],
   "source": [
    "plt.figure(0, figsize=(16,7))\n",
    "plt.title('Rewards per episode')\n",
    "xaxis = np.asarray(range(0, len(nn_loss_per_episode)))\n",
    "plt.plot(xaxis,np.asarray(nn_loss_per_episode))\n",
    "plt.show()"
   ]
  },
  {
   "cell_type": "code",
   "execution_count": null,
   "metadata": {},
   "outputs": [],
   "source": [
    "plt.figure(0, figsize=(16,7))\n",
    "plt.title('Rewards per episode')\n",
    "xaxis = np.asarray(range(2000, 4000))\n",
    "plt.plot(xaxis,np.asarray(nn_loss_per_episode)[-2000:])\n",
    "plt.show()\n"
   ]
  },
  {
   "cell_type": "markdown",
   "metadata": {},
   "source": [
    "#### Epsilon-decay sample function"
   ]
  },
  {
   "cell_type": "markdown",
   "metadata": {},
   "source": [
    "<div class=\"alert alert-block alert-info\">\n",
    "Try building a similar epsilon-decay function for your model.\n",
    "</div>"
   ]
  },
  {
   "cell_type": "code",
   "execution_count": null,
   "metadata": {},
   "outputs": [],
   "source": [
    "time = np.arange(0,10000)\n",
    "epsilon = []\n",
    "for i in range(0,10000):\n",
    "    epsilon.append(0 + (1 - 0) * np.exp(-0.0009*i))"
   ]
  },
  {
   "cell_type": "code",
   "execution_count": 2,
   "metadata": {},
   "outputs": [],
   "source": [
    "time = np.arange(0,4000)\n",
    "epsilon = []\n",
    "for i in range(0,4000):\n",
    "    epsilon.append(0.01 + (1 - 0.01) * np.exp(-0.003*i))"
   ]
  },
  {
   "cell_type": "code",
   "execution_count": 3,
   "metadata": {},
   "outputs": [
    {
     "data": {
      "image/png": "[encoded data removed]",
      "text/plain": [
       "<Figure size 432x288 with 1 Axes>"
      ]
     },
     "metadata": {
      "needs_background": "light"
     },
     "output_type": "display_data"
    }
   ],
   "source": [
    "plt.plot(time, epsilon)\n",
    "plt.show()"
   ]
  },
  {
   "cell_type": "code",
   "execution_count": null,
   "metadata": {},
   "outputs": [],
   "source": []
  }
 ],
 "metadata": {
  "kernelspec": {
   "display_name": "Python 3",
   "language": "python",
   "name": "python3"
  },
  "language_info": {
   "codemirror_mode": {
    "name": "ipython",
    "version": 3
   },
   "file_extension": ".py",
   "mimetype": "text/x-python",
   "name": "python",
   "nbconvert_exporter": "python",
   "pygments_lexer": "ipython3",
   "version": "3.7.3"
  }
 },
 "nbformat": 4,
 "nbformat_minor": 2
}
